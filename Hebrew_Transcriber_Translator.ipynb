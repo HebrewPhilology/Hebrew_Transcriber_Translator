{
 "cells": [
  {
   "cell_type": "markdown",
   "id": "ee0b6619-d359-4b61-b4ba-e17c4a38b9d5",
   "metadata": {},
   "source": [
    "Script to convert a folder with png images of an hebrew scanned article:\n",
    "1. OCR the Hebrew images with Tesseract\n",
    "2. Translate the text into french\n",
    "3. Save the transcription and the translation into txt files."
   ]
  },
  {
   "cell_type": "code",
   "execution_count": 12,
   "id": "417839c2-cd91-4690-ae6d-598c94686cf1",
   "metadata": {},
   "outputs": [
    {
     "name": "stdout",
     "output_type": "stream",
     "text": [
      "Converting 01.png to TXT...\n",
      "Converting 02.png to TXT...\n",
      "Converting 03.png to TXT...\n",
      "Converting 04.png to TXT...\n",
      "Converting 05.png to TXT...\n",
      "Converting 06.png to TXT...\n",
      "Converting 07.png to TXT...\n",
      "Converting 08.png to TXT...\n",
      "Converting 09.png to TXT...\n",
      "Converting 10.png to TXT...\n",
      "Converting 11.png to TXT...\n",
      "Converting 12.png to TXT...\n",
      "Converting 13.png to TXT...\n",
      "Converting 14.png to TXT...\n",
      "Converting 15.png to TXT...\n",
      "Converting 16.png to TXT...\n",
      "Converting 17.png to TXT...\n",
      "Converting 18.png to TXT...\n",
      "Converting 19.png to TXT...\n",
      "Converting 20.png to TXT...\n",
      "Converting 21.png to TXT...\n",
      "Converting 22.png to TXT...\n",
      "Converting 23.png to TXT...\n",
      "Converting 24.png to TXT...\n",
      "Converting 25.png to TXT...\n",
      "Converting 26.png to TXT...\n",
      "Converting 27.png to TXT...\n",
      "Converting 28.png to TXT...\n",
      "Converting 29.png to TXT...\n",
      "Converting 30.png to TXT...\n",
      "Converting 31.png to TXT...\n",
      "Converting 32.png to TXT...\n",
      "Converting 33.png to TXT...\n"
     ]
    }
   ],
   "source": [
    "from pathlib import Path\n",
    "from PIL import Image\n",
    "import pytesseract\n",
    "from googletrans import Translator\n",
    "\n",
    "translator = Translator()\n",
    "transcribed_article = \"\"\n",
    "translated_article = \"\"\n",
    "\n",
    "for file_name in sorted(Path('.').glob('*.png')):\n",
    "    print(f\"Converting {file_name} to TXT...\")\n",
    "    transcribed_page= \"*** PAGE \" + str(file_name)[:-4] + \" ***\\n\\n\" + pytesseract.image_to_string(Image.open(file_name), lang='heb')\n",
    "    transcribed_page= re.sub(\"\\n[^\\n]\", \" \", transcribed_page)\n",
    "    transcribed_article=transcribed_article + transcribed_page + \"\\n\\n\"\n",
    "    translated_page=str(translator.translate(transcribed_page, src='he', dest='fr'))\n",
    "    translated_article = translated_article + translated_page + \"\\n\\n\"\n",
    "\n",
    "with open(\"transcribed_article.txt\", \"w\") as text_file:\n",
    "    text_file.write(transcribed_article)\n",
    "with open(\"translated_article.txt\", \"w\") as text_file:\n",
    "    text_file.write(translated_article)\n",
    "\n"
   ]
  },
  {
   "cell_type": "code",
   "execution_count": null,
   "id": "5fe3b30f-06e6-498a-b1f6-3ab663c56124",
   "metadata": {},
   "outputs": [],
   "source": [
    "Requirements\n",
    "googletrans-4.0.0rc1\n",
    "pytesseract"
   ]
  }
 ],
 "metadata": {
  "kernelspec": {
   "display_name": "Python 3 (ipykernel)",
   "language": "python",
   "name": "python3"
  },
  "language_info": {
   "codemirror_mode": {
    "name": "ipython",
    "version": 3
   },
   "file_extension": ".py",
   "mimetype": "text/x-python",
   "name": "python",
   "nbconvert_exporter": "python",
   "pygments_lexer": "ipython3",
   "version": "3.12.4"
  }
 },
 "nbformat": 4,
 "nbformat_minor": 5
}
