{
 "cells": [
  {
   "cell_type": "markdown",
   "id": "ee0b6619-d359-4b61-b4ba-e17c4a38b9d5",
   "metadata": {},
   "source": [
    "Script to convert a folder with png images of an hebrew scanned article:\n",
    "1. OCR the Hebrew images with Tesseract\n",
    "2. Translate the text into french\n",
    "3. Save the transcription and the translation into txt files."
   ]
  },
  {
   "cell_type": "code",
   "execution_count": 24,
   "id": "46ef1158-af9f-4c43-a820-c410a1269a14",
   "metadata": {},
   "outputs": [
    {
     "name": "stdout",
     "output_type": "stream",
     "text": [
      "Converting Fleischer1990.pdf to PNG...\n"
     ]
    }
   ],
   "source": [
    "from pathlib import Path\n",
    "import fitz #To Convert PDF in PNG\n",
    "\n",
    "\"\"\"\n",
    "Convert each PDF files in PNG \n",
    "\"\"\"\n",
    "for file_name in sorted(Path('.').glob('*.pdf')):\n",
    "    print(f\"Converting {file_name} to PNG...\")\n",
    "\n",
    "    doc = fitz.open(file_name)\n",
    "    zoom = 4\n",
    "    mat = fitz.Matrix(zoom, zoom)\n",
    "    count = 0\n",
    "    Path(f\"./{file_name}_img\").mkdir(parents=True, exist_ok=True)\n",
    "    # Count variable is to get the number of pages in the pdf\n",
    "    for p in doc:\n",
    "        count += 1\n",
    "    for i in range(count):\n",
    "        val = f\"./{file_name}_img/{i+10001}.png\"\n",
    "        page = doc.load_page(i)\n",
    "        pix = page.get_pixmap(matrix=mat)\n",
    "        pix.save(val)\n",
    "    doc.close()\n",
    "    "
   ]
  },
  {
   "cell_type": "code",
   "execution_count": 32,
   "id": "417839c2-cd91-4690-ae6d-598c94686cf1",
   "metadata": {},
   "outputs": [
    {
     "name": "stdout",
     "output_type": "stream",
     "text": [
      "Converting Fleischer1990.pdf_img/10000.png to TXT...\n",
      "Converting Fleischer1990.pdf_img/10001.png to TXT...\n",
      "Converting Fleischer1990.pdf_img/10002.png to TXT...\n",
      "Converting Fleischer1990.pdf_img/10003.png to TXT...\n",
      "Converting Fleischer1990.pdf_img/10004.png to TXT...\n",
      "Converting Fleischer1990.pdf_img/10005.png to TXT...\n",
      "Converting Fleischer1990.pdf_img/10006.png to TXT...\n",
      "Converting Fleischer1990.pdf_img/10007.png to TXT...\n",
      "Converting Fleischer1990.pdf_img/10008.png to TXT...\n",
      "Converting Fleischer1990.pdf_img/10009.png to TXT...\n",
      "Converting Fleischer1990.pdf_img/10010.png to TXT...\n",
      "Converting Fleischer1990.pdf_img/10011.png to TXT...\n",
      "Converting Fleischer1990.pdf_img/10012.png to TXT...\n",
      "Converting Fleischer1990.pdf_img/10013.png to TXT...\n",
      "Converting Fleischer1990.pdf_img/10014.png to TXT...\n",
      "Converting Fleischer1990.pdf_img/10015.png to TXT...\n",
      "Converting Fleischer1990.pdf_img/10016.png to TXT...\n",
      "Converting Fleischer1990.pdf_img/10017.png to TXT...\n",
      "Converting Fleischer1990.pdf_img/10018.png to TXT...\n",
      "Converting Fleischer1990.pdf_img/10019.png to TXT...\n",
      "Converting Fleischer1990.pdf_img/10020.png to TXT...\n",
      "Converting Fleischer1990.pdf_img/10021.png to TXT...\n",
      "Converting Fleischer1990.pdf_img/10022.png to TXT...\n",
      "Converting Fleischer1990.pdf_img/10023.png to TXT...\n",
      "Converting Fleischer1990.pdf_img/10024.png to TXT...\n",
      "Converting Fleischer1990.pdf_img/10025.png to TXT...\n",
      "Converting Fleischer1990.pdf_img/10026.png to TXT...\n",
      "Converting Fleischer1990.pdf_img/10027.png to TXT...\n",
      "Converting Fleischer1990.pdf_img/10028.png to TXT...\n",
      "Converting Fleischer1990.pdf_img/10029.png to TXT...\n",
      "Converting Fleischer1990.pdf_img/10030.png to TXT...\n",
      "Converting Fleischer1990.pdf_img/10031.png to TXT...\n",
      "Converting Fleischer1990.pdf_img/10032.png to TXT...\n",
      "Converting Fleischer1990.pdf_img/10033.png to TXT...\n",
      "Converting Fleischer1990.pdf_img/10034.png to TXT...\n",
      "Converting Fleischer1990.pdf_img/10035.png to TXT...\n",
      "Converting Fleischer1990.pdf_img/10036.png to TXT...\n",
      "Converting Fleischer1990.pdf_img/10037.png to TXT...\n",
      "Converting Fleischer1990.pdf_img/10038.png to TXT...\n",
      "Converting Fleischer1990.pdf_img/10039.png to TXT...\n",
      "Converting Fleischer1990.pdf_img/10040.png to TXT...\n",
      "Converting Fleischer1990.pdf_img/10041.png to TXT...\n",
      "Converting Fleischer1990.pdf_img/10042.png to TXT...\n",
      "Converting Fleischer1990.pdf_img/10043.png to TXT...\n",
      "Converting Fleischer1990.pdf_img/10044.png to TXT...\n",
      "Converting Fleischer1990.pdf_img/10045.png to TXT...\n",
      "Converting Fleischer1990.pdf_img/10046.png to TXT...\n",
      "Converting Fleischer1990.pdf_img/10047.png to TXT...\n",
      "Converting Fleischer1990.pdf_img/10048.png to TXT...\n",
      "Converting Fleischer1990.pdf_img/10049.png to TXT...\n",
      "Converting Fleischer1990.pdf_img/10050.png to TXT...\n",
      "Converting Fleischer1990.pdf_img/10051.png to TXT...\n",
      "Converting Fleischer1990.pdf_img/10052.png to TXT...\n",
      "Converting Fleischer1990.pdf_img/10053.png to TXT...\n",
      "Converting Fleischer1990.pdf_img/10054.png to TXT...\n",
      "Converting Fleischer1990.pdf_img/10055.png to TXT...\n",
      "Converting Fleischer1990.pdf_img/10056.png to TXT...\n",
      "Converting Fleischer1990.pdf_img/10057.png to TXT...\n",
      "Converting Fleischer1990.pdf_img/10058.png to TXT...\n",
      "Converting Fleischer1990.pdf_img/10059.png to TXT...\n",
      "Converting Fleischer1990.pdf_img/10060.png to TXT...\n",
      "Converting Fleischer1990.pdf_img/10061.png to TXT...\n",
      "Converting Fleischer1990.pdf_img/10062.png to TXT...\n"
     ]
    }
   ],
   "source": [
    "from pathlib import Path\n",
    "from PIL import Image\n",
    "import pytesseract\n",
    "from googletrans import Translator\n",
    "import re\n",
    "\n",
    "\"\"\"\n",
    "Convert each Png into tex and translate it into french\n",
    "\"\"\"\n",
    "\n",
    "translator = Translator()\n",
    "transcribed_article = \"\"\n",
    "translated_article = \"\"\n",
    "\n",
    "for img in sorted(Path(f'./{file_name}_img/').glob('*.png')):\n",
    "    print(f\"Converting {img} to TXT...\")\n",
    "    transcribed_page= \"*** PAGE \" + str(img)[:-4] + \" ***\\n\\n\" + pytesseract.image_to_string(Image.open(img), lang='heb')\n",
    "    transcribed_page= re.sub(\"\\n[^\\n]\", \" \", transcribed_page)\n",
    "    transcribed_article=transcribed_article + transcribed_page + \"\\n\\n\"\n",
    "    translated_page=str(translator.translate(transcribed_page, src='he', dest='fr'))\n",
    "    translated_article = translated_article + translated_page + \"\\n\\n\"\n",
    "\n",
    "with open(\"transcribed_article.txt\", \"w\") as text_file:\n",
    "    text_file.write(transcribed_article)\n",
    "with open(\"translated_article.txt\", \"w\") as text_file:\n",
    "    text_file.write(translated_article)\n",
    "\n",
    "#A faire\n",
    "#Adapter le nom de fichier de sortie au nom du pdf\n",
    "#effacer le repertoire image\n",
    "#fusionner les deux parties du programme\n",
    "#Faire une classe et installer ça sur Pypi pour tout le monde!!!!\n",
    "\n",
    "\n"
   ]
  },
  {
   "cell_type": "code",
   "execution_count": null,
   "id": "5fe3b30f-06e6-498a-b1f6-3ab663c56124",
   "metadata": {},
   "outputs": [],
   "source": [
    "Requirements\n",
    "googletrans-4.0.0rc1\n",
    "pytesseract"
   ]
  }
 ],
 "metadata": {
  "kernelspec": {
   "display_name": "Python 3 (ipykernel)",
   "language": "python",
   "name": "python3"
  },
  "language_info": {
   "codemirror_mode": {
    "name": "ipython",
    "version": 3
   },
   "file_extension": ".py",
   "mimetype": "text/x-python",
   "name": "python",
   "nbconvert_exporter": "python",
   "pygments_lexer": "ipython3",
   "version": "3.12.4"
  }
 },
 "nbformat": 4,
 "nbformat_minor": 5
}
